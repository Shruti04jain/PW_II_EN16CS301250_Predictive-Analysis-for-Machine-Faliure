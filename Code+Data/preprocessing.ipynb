{
  "nbformat": 4,
  "nbformat_minor": 0,
  "metadata": {
    "colab": {
      "name": "finalproject.ipynb",
      "provenance": [],
      "collapsed_sections": []
    },
    "kernelspec": {
      "name": "python3",
      "display_name": "Python 3"
    }
  },
  "cells": [
    {
      "cell_type": "code",
      "metadata": {
        "id": "RAYhHVSJZCyO",
        "colab_type": "code",
        "colab": {}
      },
      "source": [
        "import pandas as pd\n",
        "import numpy as np\n",
        "from scipy import stats\n",
        "import seaborn as sns\n",
        "import matplotlib.pyplot as plt"
      ],
      "execution_count": 0,
      "outputs": []
    },
    {
      "cell_type": "code",
      "metadata": {
        "id": "i8aYmXa9Ztvz",
        "colab_type": "code",
        "colab": {}
      },
      "source": [
        "df=pd.read_csv('train.csv')"
      ],
      "execution_count": 0,
      "outputs": []
    },
    {
      "cell_type": "code",
      "metadata": {
        "id": "XBmlIU0carzk",
        "colab_type": "code",
        "outputId": "e9d097c4-48bf-45c2-c7b0-bf24e8a45f7b",
        "colab": {
          "base_uri": "https://localhost:8080/",
          "height": 284
        }
      },
      "source": [
        "df.info()"
      ],
      "execution_count": 508,
      "outputs": [
        {
          "output_type": "stream",
          "text": [
            "<class 'pandas.core.frame.DataFrame'>\n",
            "RangeIndex: 700 entries, 0 to 699\n",
            "Data columns (total 9 columns):\n",
            " #   Column          Non-Null Count  Dtype  \n",
            "---  ------          --------------  -----  \n",
            " 0   Random          700 non-null    float64\n",
            " 1   Machine nbr     700 non-null    int64  \n",
            " 2   lifetime        700 non-null    int64  \n",
            " 3   pressureInd     699 non-null    float64\n",
            " 4   moistureInd     698 non-null    float64\n",
            " 5   temperatureInd  699 non-null    float64\n",
            " 6   team            700 non-null    int64  \n",
            " 7   provider        700 non-null    int64  \n",
            " 8   broken          700 non-null    object \n",
            "dtypes: float64(4), int64(4), object(1)\n",
            "memory usage: 49.3+ KB\n"
          ],
          "name": "stdout"
        }
      ]
    },
    {
      "cell_type": "code",
      "metadata": {
        "id": "vpvf91RL8aCN",
        "colab_type": "code",
        "outputId": "63f326e8-19c8-41d2-dec5-c6d2e99df103",
        "colab": {
          "base_uri": "https://localhost:8080/",
          "height": 291
        }
      },
      "source": [
        "df.describe()"
      ],
      "execution_count": 509,
      "outputs": [
        {
          "output_type": "execute_result",
          "data": {
            "text/html": [
              "<div>\n",
              "<style scoped>\n",
              "    .dataframe tbody tr th:only-of-type {\n",
              "        vertical-align: middle;\n",
              "    }\n",
              "\n",
              "    .dataframe tbody tr th {\n",
              "        vertical-align: top;\n",
              "    }\n",
              "\n",
              "    .dataframe thead th {\n",
              "        text-align: right;\n",
              "    }\n",
              "</style>\n",
              "<table border=\"1\" class=\"dataframe\">\n",
              "  <thead>\n",
              "    <tr style=\"text-align: right;\">\n",
              "      <th></th>\n",
              "      <th>Random</th>\n",
              "      <th>Machine nbr</th>\n",
              "      <th>lifetime</th>\n",
              "      <th>pressureInd</th>\n",
              "      <th>moistureInd</th>\n",
              "      <th>temperatureInd</th>\n",
              "      <th>team</th>\n",
              "      <th>provider</th>\n",
              "    </tr>\n",
              "  </thead>\n",
              "  <tbody>\n",
              "    <tr>\n",
              "      <th>count</th>\n",
              "      <td>700.000000</td>\n",
              "      <td>700.000000</td>\n",
              "      <td>700.000000</td>\n",
              "      <td>699.000000</td>\n",
              "      <td>698.000000</td>\n",
              "      <td>699.000000</td>\n",
              "      <td>700.000000</td>\n",
              "      <td>700.000000</td>\n",
              "    </tr>\n",
              "    <tr>\n",
              "      <th>mean</th>\n",
              "      <td>0.500803</td>\n",
              "      <td>506.242857</td>\n",
              "      <td>57.484286</td>\n",
              "      <td>98.518565</td>\n",
              "      <td>99.697367</td>\n",
              "      <td>101.633439</td>\n",
              "      <td>2.000000</td>\n",
              "      <td>2.462857</td>\n",
              "    </tr>\n",
              "    <tr>\n",
              "      <th>std</th>\n",
              "      <td>0.293198</td>\n",
              "      <td>288.266857</td>\n",
              "      <td>49.532851</td>\n",
              "      <td>20.231142</td>\n",
              "      <td>10.054600</td>\n",
              "      <td>27.919472</td>\n",
              "      <td>0.804138</td>\n",
              "      <td>1.101458</td>\n",
              "    </tr>\n",
              "    <tr>\n",
              "      <th>min</th>\n",
              "      <td>0.000989</td>\n",
              "      <td>2.000000</td>\n",
              "      <td>1.000000</td>\n",
              "      <td>33.481917</td>\n",
              "      <td>58.547301</td>\n",
              "      <td>42.279598</td>\n",
              "      <td>1.000000</td>\n",
              "      <td>1.000000</td>\n",
              "    </tr>\n",
              "    <tr>\n",
              "      <th>25%</th>\n",
              "      <td>0.245743</td>\n",
              "      <td>256.750000</td>\n",
              "      <td>32.750000</td>\n",
              "      <td>85.657184</td>\n",
              "      <td>92.818551</td>\n",
              "      <td>87.236767</td>\n",
              "      <td>1.000000</td>\n",
              "      <td>1.000000</td>\n",
              "    </tr>\n",
              "    <tr>\n",
              "      <th>50%</th>\n",
              "      <td>0.492816</td>\n",
              "      <td>508.500000</td>\n",
              "      <td>60.000000</td>\n",
              "      <td>96.684659</td>\n",
              "      <td>99.843030</td>\n",
              "      <td>100.855972</td>\n",
              "      <td>2.000000</td>\n",
              "      <td>2.000000</td>\n",
              "    </tr>\n",
              "    <tr>\n",
              "      <th>75%</th>\n",
              "      <td>0.748046</td>\n",
              "      <td>753.250000</td>\n",
              "      <td>80.000000</td>\n",
              "      <td>112.019428</td>\n",
              "      <td>106.308898</td>\n",
              "      <td>113.935906</td>\n",
              "      <td>3.000000</td>\n",
              "      <td>3.000000</td>\n",
              "    </tr>\n",
              "    <tr>\n",
              "      <th>max</th>\n",
              "      <td>0.996737</td>\n",
              "      <td>999.000000</td>\n",
              "      <td>800.000000</td>\n",
              "      <td>173.282541</td>\n",
              "      <td>128.595038</td>\n",
              "      <td>620.086828</td>\n",
              "      <td>3.000000</td>\n",
              "      <td>4.000000</td>\n",
              "    </tr>\n",
              "  </tbody>\n",
              "</table>\n",
              "</div>"
            ],
            "text/plain": [
              "           Random  Machine nbr  ...        team    provider\n",
              "count  700.000000   700.000000  ...  700.000000  700.000000\n",
              "mean     0.500803   506.242857  ...    2.000000    2.462857\n",
              "std      0.293198   288.266857  ...    0.804138    1.101458\n",
              "min      0.000989     2.000000  ...    1.000000    1.000000\n",
              "25%      0.245743   256.750000  ...    1.000000    1.000000\n",
              "50%      0.492816   508.500000  ...    2.000000    2.000000\n",
              "75%      0.748046   753.250000  ...    3.000000    3.000000\n",
              "max      0.996737   999.000000  ...    3.000000    4.000000\n",
              "\n",
              "[8 rows x 8 columns]"
            ]
          },
          "metadata": {
            "tags": []
          },
          "execution_count": 509
        }
      ]
    },
    {
      "cell_type": "code",
      "metadata": {
        "id": "KzYxYc3kavKO",
        "colab_type": "code",
        "outputId": "d447c3ae-3f73-4868-e7b5-1f013c354e8c",
        "colab": {
          "base_uri": "https://localhost:8080/",
          "height": 200
        }
      },
      "source": [
        "df.head(5)"
      ],
      "execution_count": 510,
      "outputs": [
        {
          "output_type": "execute_result",
          "data": {
            "text/html": [
              "<div>\n",
              "<style scoped>\n",
              "    .dataframe tbody tr th:only-of-type {\n",
              "        vertical-align: middle;\n",
              "    }\n",
              "\n",
              "    .dataframe tbody tr th {\n",
              "        vertical-align: top;\n",
              "    }\n",
              "\n",
              "    .dataframe thead th {\n",
              "        text-align: right;\n",
              "    }\n",
              "</style>\n",
              "<table border=\"1\" class=\"dataframe\">\n",
              "  <thead>\n",
              "    <tr style=\"text-align: right;\">\n",
              "      <th></th>\n",
              "      <th>Random</th>\n",
              "      <th>Machine nbr</th>\n",
              "      <th>lifetime</th>\n",
              "      <th>pressureInd</th>\n",
              "      <th>moistureInd</th>\n",
              "      <th>temperatureInd</th>\n",
              "      <th>team</th>\n",
              "      <th>provider</th>\n",
              "      <th>broken</th>\n",
              "    </tr>\n",
              "  </thead>\n",
              "  <tbody>\n",
              "    <tr>\n",
              "      <th>0</th>\n",
              "      <td>0.437420</td>\n",
              "      <td>723</td>\n",
              "      <td>60</td>\n",
              "      <td>77.836105</td>\n",
              "      <td>112.832544</td>\n",
              "      <td>121.786371</td>\n",
              "      <td>3</td>\n",
              "      <td>3</td>\n",
              "      <td>Yes</td>\n",
              "    </tr>\n",
              "    <tr>\n",
              "      <th>1</th>\n",
              "      <td>0.688345</td>\n",
              "      <td>107</td>\n",
              "      <td>88</td>\n",
              "      <td>89.350620</td>\n",
              "      <td>95.228125</td>\n",
              "      <td>99.082317</td>\n",
              "      <td>1</td>\n",
              "      <td>4</td>\n",
              "      <td>Yes</td>\n",
              "    </tr>\n",
              "    <tr>\n",
              "      <th>2</th>\n",
              "      <td>0.805670</td>\n",
              "      <td>153</td>\n",
              "      <td>30</td>\n",
              "      <td>130.089477</td>\n",
              "      <td>96.367747</td>\n",
              "      <td>103.608344</td>\n",
              "      <td>1</td>\n",
              "      <td>3</td>\n",
              "      <td>No</td>\n",
              "    </tr>\n",
              "    <tr>\n",
              "      <th>3</th>\n",
              "      <td>0.923187</td>\n",
              "      <td>140</td>\n",
              "      <td>79</td>\n",
              "      <td>87.421990</td>\n",
              "      <td>110.941574</td>\n",
              "      <td>129.691510</td>\n",
              "      <td>2</td>\n",
              "      <td>1</td>\n",
              "      <td>Yes</td>\n",
              "    </tr>\n",
              "    <tr>\n",
              "      <th>4</th>\n",
              "      <td>0.036583</td>\n",
              "      <td>359</td>\n",
              "      <td>2</td>\n",
              "      <td>69.939898</td>\n",
              "      <td>86.292387</td>\n",
              "      <td>91.861983</td>\n",
              "      <td>3</td>\n",
              "      <td>3</td>\n",
              "      <td>No</td>\n",
              "    </tr>\n",
              "  </tbody>\n",
              "</table>\n",
              "</div>"
            ],
            "text/plain": [
              "     Random  Machine nbr  lifetime  ...  team  provider  broken\n",
              "0  0.437420          723        60  ...     3         3     Yes\n",
              "1  0.688345          107        88  ...     1         4     Yes\n",
              "2  0.805670          153        30  ...     1         3      No\n",
              "3  0.923187          140        79  ...     2         1     Yes\n",
              "4  0.036583          359         2  ...     3         3      No\n",
              "\n",
              "[5 rows x 9 columns]"
            ]
          },
          "metadata": {
            "tags": []
          },
          "execution_count": 510
        }
      ]
    },
    {
      "cell_type": "code",
      "metadata": {
        "id": "zrDCzipZa5FC",
        "colab_type": "code",
        "outputId": "4b20a609-3552-482e-f3f4-3e27e9c7018d",
        "colab": {
          "base_uri": "https://localhost:8080/",
          "height": 33
        }
      },
      "source": [
        "df.shape"
      ],
      "execution_count": 511,
      "outputs": [
        {
          "output_type": "execute_result",
          "data": {
            "text/plain": [
              "(700, 9)"
            ]
          },
          "metadata": {
            "tags": []
          },
          "execution_count": 511
        }
      ]
    },
    {
      "cell_type": "code",
      "metadata": {
        "id": "bxuUuG98a8vb",
        "colab_type": "code",
        "outputId": "a990e553-1435-4e21-fb01-09521c29a5d0",
        "colab": {
          "base_uri": "https://localhost:8080/",
          "height": 217
        }
      },
      "source": [
        "df.iloc[:,-1]"
      ],
      "execution_count": 512,
      "outputs": [
        {
          "output_type": "execute_result",
          "data": {
            "text/plain": [
              "0      Yes\n",
              "1      Yes\n",
              "2       No\n",
              "3      Yes\n",
              "4       No\n",
              "      ... \n",
              "695    Yes\n",
              "696    Yes\n",
              "697     No\n",
              "698     No\n",
              "699    Yes\n",
              "Name: broken, Length: 700, dtype: object"
            ]
          },
          "metadata": {
            "tags": []
          },
          "execution_count": 512
        }
      ]
    },
    {
      "cell_type": "code",
      "metadata": {
        "id": "-UBfPYVucAwF",
        "colab_type": "code",
        "outputId": "8f7a2cb4-ea94-46a6-aa6b-ae30d5b0e9f6",
        "colab": {
          "base_uri": "https://localhost:8080/",
          "height": 78
        }
      },
      "source": [
        "df[df['pressureInd'].isnull()]"
      ],
      "execution_count": 513,
      "outputs": [
        {
          "output_type": "execute_result",
          "data": {
            "text/html": [
              "<div>\n",
              "<style scoped>\n",
              "    .dataframe tbody tr th:only-of-type {\n",
              "        vertical-align: middle;\n",
              "    }\n",
              "\n",
              "    .dataframe tbody tr th {\n",
              "        vertical-align: top;\n",
              "    }\n",
              "\n",
              "    .dataframe thead th {\n",
              "        text-align: right;\n",
              "    }\n",
              "</style>\n",
              "<table border=\"1\" class=\"dataframe\">\n",
              "  <thead>\n",
              "    <tr style=\"text-align: right;\">\n",
              "      <th></th>\n",
              "      <th>Random</th>\n",
              "      <th>Machine nbr</th>\n",
              "      <th>lifetime</th>\n",
              "      <th>pressureInd</th>\n",
              "      <th>moistureInd</th>\n",
              "      <th>temperatureInd</th>\n",
              "      <th>team</th>\n",
              "      <th>provider</th>\n",
              "      <th>broken</th>\n",
              "    </tr>\n",
              "  </thead>\n",
              "  <tbody>\n",
              "    <tr>\n",
              "      <th>72</th>\n",
              "      <td>0.30026</td>\n",
              "      <td>209</td>\n",
              "      <td>46</td>\n",
              "      <td>NaN</td>\n",
              "      <td>108.500048</td>\n",
              "      <td>82.372952</td>\n",
              "      <td>2</td>\n",
              "      <td>1</td>\n",
              "      <td>No</td>\n",
              "    </tr>\n",
              "  </tbody>\n",
              "</table>\n",
              "</div>"
            ],
            "text/plain": [
              "     Random  Machine nbr  lifetime  ...  team  provider  broken\n",
              "72  0.30026          209        46  ...     2         1      No\n",
              "\n",
              "[1 rows x 9 columns]"
            ]
          },
          "metadata": {
            "tags": []
          },
          "execution_count": 513
        }
      ]
    },
    {
      "cell_type": "code",
      "metadata": {
        "id": "Kfa18b5qcLe4",
        "colab_type": "code",
        "outputId": "a048b377-9229-4aa9-ed2a-47ca544c18c7",
        "colab": {
          "base_uri": "https://localhost:8080/",
          "height": 109
        }
      },
      "source": [
        "df[df['moistureInd'].isnull()]"
      ],
      "execution_count": 514,
      "outputs": [
        {
          "output_type": "execute_result",
          "data": {
            "text/html": [
              "<div>\n",
              "<style scoped>\n",
              "    .dataframe tbody tr th:only-of-type {\n",
              "        vertical-align: middle;\n",
              "    }\n",
              "\n",
              "    .dataframe tbody tr th {\n",
              "        vertical-align: top;\n",
              "    }\n",
              "\n",
              "    .dataframe thead th {\n",
              "        text-align: right;\n",
              "    }\n",
              "</style>\n",
              "<table border=\"1\" class=\"dataframe\">\n",
              "  <thead>\n",
              "    <tr style=\"text-align: right;\">\n",
              "      <th></th>\n",
              "      <th>Random</th>\n",
              "      <th>Machine nbr</th>\n",
              "      <th>lifetime</th>\n",
              "      <th>pressureInd</th>\n",
              "      <th>moistureInd</th>\n",
              "      <th>temperatureInd</th>\n",
              "      <th>team</th>\n",
              "      <th>provider</th>\n",
              "      <th>broken</th>\n",
              "    </tr>\n",
              "  </thead>\n",
              "  <tbody>\n",
              "    <tr>\n",
              "      <th>174</th>\n",
              "      <td>0.950821</td>\n",
              "      <td>924</td>\n",
              "      <td>48</td>\n",
              "      <td>123.046048</td>\n",
              "      <td>NaN</td>\n",
              "      <td>95.825929</td>\n",
              "      <td>3</td>\n",
              "      <td>1</td>\n",
              "      <td>No</td>\n",
              "    </tr>\n",
              "    <tr>\n",
              "      <th>188</th>\n",
              "      <td>0.639391</td>\n",
              "      <td>812</td>\n",
              "      <td>8</td>\n",
              "      <td>100.777048</td>\n",
              "      <td>NaN</td>\n",
              "      <td>93.774378</td>\n",
              "      <td>1</td>\n",
              "      <td>4</td>\n",
              "      <td>No</td>\n",
              "    </tr>\n",
              "  </tbody>\n",
              "</table>\n",
              "</div>"
            ],
            "text/plain": [
              "       Random  Machine nbr  lifetime  ...  team  provider  broken\n",
              "174  0.950821          924        48  ...     3         1      No\n",
              "188  0.639391          812         8  ...     1         4      No\n",
              "\n",
              "[2 rows x 9 columns]"
            ]
          },
          "metadata": {
            "tags": []
          },
          "execution_count": 514
        }
      ]
    },
    {
      "cell_type": "code",
      "metadata": {
        "id": "B8295NpVcPF_",
        "colab_type": "code",
        "outputId": "69128135-7d2f-4b3f-bcc6-326a995d3e53",
        "colab": {
          "base_uri": "https://localhost:8080/",
          "height": 78
        }
      },
      "source": [
        "df[df['temperatureInd'].isnull()]"
      ],
      "execution_count": 515,
      "outputs": [
        {
          "output_type": "execute_result",
          "data": {
            "text/html": [
              "<div>\n",
              "<style scoped>\n",
              "    .dataframe tbody tr th:only-of-type {\n",
              "        vertical-align: middle;\n",
              "    }\n",
              "\n",
              "    .dataframe tbody tr th {\n",
              "        vertical-align: top;\n",
              "    }\n",
              "\n",
              "    .dataframe thead th {\n",
              "        text-align: right;\n",
              "    }\n",
              "</style>\n",
              "<table border=\"1\" class=\"dataframe\">\n",
              "  <thead>\n",
              "    <tr style=\"text-align: right;\">\n",
              "      <th></th>\n",
              "      <th>Random</th>\n",
              "      <th>Machine nbr</th>\n",
              "      <th>lifetime</th>\n",
              "      <th>pressureInd</th>\n",
              "      <th>moistureInd</th>\n",
              "      <th>temperatureInd</th>\n",
              "      <th>team</th>\n",
              "      <th>provider</th>\n",
              "      <th>broken</th>\n",
              "    </tr>\n",
              "  </thead>\n",
              "  <tbody>\n",
              "    <tr>\n",
              "      <th>227</th>\n",
              "      <td>0.262716</td>\n",
              "      <td>970</td>\n",
              "      <td>12</td>\n",
              "      <td>57.463213</td>\n",
              "      <td>104.979089</td>\n",
              "      <td>NaN</td>\n",
              "      <td>2</td>\n",
              "      <td>2</td>\n",
              "      <td>No</td>\n",
              "    </tr>\n",
              "  </tbody>\n",
              "</table>\n",
              "</div>"
            ],
            "text/plain": [
              "       Random  Machine nbr  lifetime  ...  team  provider  broken\n",
              "227  0.262716          970        12  ...     2         2      No\n",
              "\n",
              "[1 rows x 9 columns]"
            ]
          },
          "metadata": {
            "tags": []
          },
          "execution_count": 515
        }
      ]
    },
    {
      "cell_type": "code",
      "metadata": {
        "id": "Tiyw09jDcfeh",
        "colab_type": "code",
        "outputId": "c9026ab3-cbb5-4ec0-cb48-330ef23823a8",
        "colab": {
          "base_uri": "https://localhost:8080/",
          "height": 296
        }
      },
      "source": [
        "sns.distplot(df['pressureInd'])"
      ],
      "execution_count": 516,
      "outputs": [
        {
          "output_type": "execute_result",
          "data": {
            "text/plain": [
              "<matplotlib.axes._subplots.AxesSubplot at 0x7f2f4ce364a8>"
            ]
          },
          "metadata": {
            "tags": []
          },
          "execution_count": 516
        },
        {
          "output_type": "display_data",
          "data": {
            "image/png": "[encoded data removed]",
            "text/plain": [
              "<Figure size 432x288 with 1 Axes>"
            ]
          },
          "metadata": {
            "tags": [],
            "needs_background": "light"
          }
        }
      ]
    },
    {
      "cell_type": "code",
      "metadata": {
        "id": "ptGOHKxdgppY",
        "colab_type": "code",
        "outputId": "b21b84fe-bd15-4203-881f-c602bb911cc1",
        "colab": {
          "base_uri": "https://localhost:8080/",
          "height": 296
        }
      },
      "source": [
        "sns.distplot(df['moistureInd'])"
      ],
      "execution_count": 517,
      "outputs": [
        {
          "output_type": "execute_result",
          "data": {
            "text/plain": [
              "<matplotlib.axes._subplots.AxesSubplot at 0x7f2f4ca45d30>"
            ]
          },
          "metadata": {
            "tags": []
          },
          "execution_count": 517
        },
        {
          "output_type": "display_data",
          "data": {
            "image/png": "[encoded data removed]",
            "text/plain": [
              "<Figure size 432x288 with 1 Axes>"
            ]
          },
          "metadata": {
            "tags": [],
            "needs_background": "light"
          }
        }
      ]
    },
    {
      "cell_type": "code",
      "metadata": {
        "id": "nsLHtUrygwtg",
        "colab_type": "code",
        "outputId": "fb7acaf8-2053-46c4-91bd-21bc4316f454",
        "colab": {
          "base_uri": "https://localhost:8080/",
          "height": 296
        }
      },
      "source": [
        "sns.distplot(df['temperatureInd'])"
      ],
      "execution_count": 518,
      "outputs": [
        {
          "output_type": "execute_result",
          "data": {
            "text/plain": [
              "<matplotlib.axes._subplots.AxesSubplot at 0x7f2f4c986d30>"
            ]
          },
          "metadata": {
            "tags": []
          },
          "execution_count": 518
        },
        {
          "output_type": "display_data",
          "data": {
            "image/png": "[encoded data removed]",
            "text/plain": [
              "<Figure size 432x288 with 1 Axes>"
            ]
          },
          "metadata": {
            "tags": [],
            "needs_background": "light"
          }
        }
      ]
    },
    {
      "cell_type": "code",
      "metadata": {
        "id": "01jLd4gjoDFg",
        "colab_type": "code",
        "outputId": "fb7a7dbf-ed9b-4624-e524-57b6a6844614",
        "colab": {
          "base_uri": "https://localhost:8080/",
          "height": 296
        }
      },
      "source": [
        "sns.distplot(df['lifetime'])"
      ],
      "execution_count": 519,
      "outputs": [
        {
          "output_type": "execute_result",
          "data": {
            "text/plain": [
              "<matplotlib.axes._subplots.AxesSubplot at 0x7f2f4c8a3828>"
            ]
          },
          "metadata": {
            "tags": []
          },
          "execution_count": 519
        },
        {
          "output_type": "display_data",
          "data": {
            "image/png": "[encoded data removed]",
            "text/plain": [
              "<Figure size 432x288 with 1 Axes>"
            ]
          },
          "metadata": {
            "tags": [],
            "needs_background": "light"
          }
        }
      ]
    },
    {
      "cell_type": "code",
      "metadata": {
        "id": "rSc_Id7GcrZG",
        "colab_type": "code",
        "outputId": "06cb243a-0090-4dd0-dd5b-9afc06dd3b5e",
        "colab": {
          "base_uri": "https://localhost:8080/",
          "height": 33
        }
      },
      "source": [
        "np.mean(df['pressureInd']) ,np.mean(df['moistureInd']), np.mean(df['temperatureInd'])"
      ],
      "execution_count": 520,
      "outputs": [
        {
          "output_type": "execute_result",
          "data": {
            "text/plain": [
              "(98.51856537961388, 99.69736668959885, 101.63343885902715)"
            ]
          },
          "metadata": {
            "tags": []
          },
          "execution_count": 520
        }
      ]
    },
    {
      "cell_type": "code",
      "metadata": {
        "id": "MLjHIX86ftv_",
        "colab_type": "code",
        "outputId": "69deb837-d9ea-41c4-d59e-6cd0a9f43d9e",
        "colab": {
          "base_uri": "https://localhost:8080/",
          "height": 33
        }
      },
      "source": [
        "filt_data=df[pd.notnull(df['pressureInd'])]\n",
        "filt_data.shape"
      ],
      "execution_count": 521,
      "outputs": [
        {
          "output_type": "execute_result",
          "data": {
            "text/plain": [
              "(699, 9)"
            ]
          },
          "metadata": {
            "tags": []
          },
          "execution_count": 521
        }
      ]
    },
    {
      "cell_type": "code",
      "metadata": {
        "id": "C6zNQ5kKiGWm",
        "colab_type": "code",
        "outputId": "b8c6e73c-2001-4be3-bbff-99a57ffc968d",
        "colab": {
          "base_uri": "https://localhost:8080/",
          "height": 404
        }
      },
      "source": [
        "plt.figure(figsize=(8,6))\n",
        "sns.boxplot(filt_data['pressureInd'])"
      ],
      "execution_count": 522,
      "outputs": [
        {
          "output_type": "execute_result",
          "data": {
            "text/plain": [
              "<matplotlib.axes._subplots.AxesSubplot at 0x7f2f4c75c978>"
            ]
          },
          "metadata": {
            "tags": []
          },
          "execution_count": 522
        },
        {
          "output_type": "display_data",
          "data": {
            "image/png": "[encoded data removed]",
            "text/plain": [
              "<Figure size 576x432 with 1 Axes>"
            ]
          },
          "metadata": {
            "tags": [],
            "needs_background": "light"
          }
        }
      ]
    },
    {
      "cell_type": "code",
      "metadata": {
        "id": "TI-CriDPkXMd",
        "colab_type": "code",
        "outputId": "60fe7491-08e9-406e-ecbb-2e644ad0e30f",
        "colab": {
          "base_uri": "https://localhost:8080/",
          "height": 33
        }
      },
      "source": [
        "iqr=stats.iqr(filt_data['pressureInd'],rng=(25,75))\n",
        "q1=np.percentile(filt_data['pressureInd'],25,interpolation='midpoint')\n",
        "q3=np.percentile(filt_data['pressureInd'],75,interpolation='midpoint')\n",
        "r1=q1-1.5*iqr\n",
        "r2=q3+1.5*iqr\n",
        "r1,r2"
      ],
      "execution_count": 523,
      "outputs": [
        {
          "output_type": "execute_result",
          "data": {
            "text/plain": [
              "(46.113818474999995, 151.562794115)"
            ]
          },
          "metadata": {
            "tags": []
          },
          "execution_count": 523
        }
      ]
    },
    {
      "cell_type": "code",
      "metadata": {
        "id": "XgfdOnMbkliL",
        "colab_type": "code",
        "colab": {}
      },
      "source": [
        "lis=filt_data[(filt_data['pressureInd']>r2) | (filt_data['pressureInd']<r1)].index\n",
        "l=list(lis)"
      ],
      "execution_count": 0,
      "outputs": []
    },
    {
      "cell_type": "code",
      "metadata": {
        "id": "cu8kg1MnIw8u",
        "colab_type": "code",
        "colab": {
          "base_uri": "https://localhost:8080/",
          "height": 230
        },
        "outputId": "94f9d286-190c-4348-94d4-334259c10f6f"
      },
      "source": [
        "df.iloc[lis]"
      ],
      "execution_count": 525,
      "outputs": [
        {
          "output_type": "execute_result",
          "data": {
            "text/html": [
              "<div>\n",
              "<style scoped>\n",
              "    .dataframe tbody tr th:only-of-type {\n",
              "        vertical-align: middle;\n",
              "    }\n",
              "\n",
              "    .dataframe tbody tr th {\n",
              "        vertical-align: top;\n",
              "    }\n",
              "\n",
              "    .dataframe thead th {\n",
              "        text-align: right;\n",
              "    }\n",
              "</style>\n",
              "<table border=\"1\" class=\"dataframe\">\n",
              "  <thead>\n",
              "    <tr style=\"text-align: right;\">\n",
              "      <th></th>\n",
              "      <th>Random</th>\n",
              "      <th>Machine nbr</th>\n",
              "      <th>lifetime</th>\n",
              "      <th>pressureInd</th>\n",
              "      <th>moistureInd</th>\n",
              "      <th>temperatureInd</th>\n",
              "      <th>team</th>\n",
              "      <th>provider</th>\n",
              "      <th>broken</th>\n",
              "    </tr>\n",
              "  </thead>\n",
              "  <tbody>\n",
              "    <tr>\n",
              "      <th>6</th>\n",
              "      <td>0.264124</td>\n",
              "      <td>20</td>\n",
              "      <td>11</td>\n",
              "      <td>166.785898</td>\n",
              "      <td>97.244213</td>\n",
              "      <td>89.585687</td>\n",
              "      <td>2</td>\n",
              "      <td>2</td>\n",
              "      <td>No</td>\n",
              "    </tr>\n",
              "    <tr>\n",
              "      <th>305</th>\n",
              "      <td>0.507886</td>\n",
              "      <td>940</td>\n",
              "      <td>34</td>\n",
              "      <td>152.247259</td>\n",
              "      <td>104.465022</td>\n",
              "      <td>68.166865</td>\n",
              "      <td>3</td>\n",
              "      <td>3</td>\n",
              "      <td>No</td>\n",
              "    </tr>\n",
              "    <tr>\n",
              "      <th>404</th>\n",
              "      <td>0.900353</td>\n",
              "      <td>79</td>\n",
              "      <td>63</td>\n",
              "      <td>154.924585</td>\n",
              "      <td>77.677249</td>\n",
              "      <td>112.048807</td>\n",
              "      <td>2</td>\n",
              "      <td>4</td>\n",
              "      <td>No</td>\n",
              "    </tr>\n",
              "    <tr>\n",
              "      <th>485</th>\n",
              "      <td>0.965515</td>\n",
              "      <td>507</td>\n",
              "      <td>85</td>\n",
              "      <td>173.282541</td>\n",
              "      <td>111.662654</td>\n",
              "      <td>124.708910</td>\n",
              "      <td>3</td>\n",
              "      <td>2</td>\n",
              "      <td>Yes</td>\n",
              "    </tr>\n",
              "    <tr>\n",
              "      <th>561</th>\n",
              "      <td>0.545088</td>\n",
              "      <td>469</td>\n",
              "      <td>80</td>\n",
              "      <td>33.481917</td>\n",
              "      <td>102.310309</td>\n",
              "      <td>97.359616</td>\n",
              "      <td>2</td>\n",
              "      <td>1</td>\n",
              "      <td>Yes</td>\n",
              "    </tr>\n",
              "    <tr>\n",
              "      <th>598</th>\n",
              "      <td>0.435107</td>\n",
              "      <td>408</td>\n",
              "      <td>52</td>\n",
              "      <td>38.787548</td>\n",
              "      <td>116.491817</td>\n",
              "      <td>125.002526</td>\n",
              "      <td>3</td>\n",
              "      <td>4</td>\n",
              "      <td>No</td>\n",
              "    </tr>\n",
              "  </tbody>\n",
              "</table>\n",
              "</div>"
            ],
            "text/plain": [
              "       Random  Machine nbr  lifetime  ...  team  provider  broken\n",
              "6    0.264124           20        11  ...     2         2      No\n",
              "305  0.507886          940        34  ...     3         3      No\n",
              "404  0.900353           79        63  ...     2         4      No\n",
              "485  0.965515          507        85  ...     3         2     Yes\n",
              "561  0.545088          469        80  ...     2         1     Yes\n",
              "598  0.435107          408        52  ...     3         4      No\n",
              "\n",
              "[6 rows x 9 columns]"
            ]
          },
          "metadata": {
            "tags": []
          },
          "execution_count": 525
        }
      ]
    },
    {
      "cell_type": "code",
      "metadata": {
        "id": "waJl6H-Dpm4I",
        "colab_type": "code",
        "outputId": "34329a1f-37de-41b9-b7f5-20bf6ef66811",
        "colab": {
          "base_uri": "https://localhost:8080/",
          "height": 33
        }
      },
      "source": [
        "filt_data=df[pd.notnull(df['moistureInd'])]\n",
        "filt_data.shape"
      ],
      "execution_count": 526,
      "outputs": [
        {
          "output_type": "execute_result",
          "data": {
            "text/plain": [
              "(698, 9)"
            ]
          },
          "metadata": {
            "tags": []
          },
          "execution_count": 526
        }
      ]
    },
    {
      "cell_type": "code",
      "metadata": {
        "id": "Zjr-2QPhnc2G",
        "colab_type": "code",
        "outputId": "d6ad738e-5ae7-452e-cd00-c2a65292120b",
        "colab": {
          "base_uri": "https://localhost:8080/",
          "height": 378
        }
      },
      "source": [
        "plt.figure(figsize=(8,6))\n",
        "sns.boxplot(y=filt_data['moistureInd'])"
      ],
      "execution_count": 527,
      "outputs": [
        {
          "output_type": "execute_result",
          "data": {
            "text/plain": [
              "<matplotlib.axes._subplots.AxesSubplot at 0x7f2f4c733eb8>"
            ]
          },
          "metadata": {
            "tags": []
          },
          "execution_count": 527
        },
        {
          "output_type": "display_data",
          "data": {
            "image/png": "[encoded data removed]",
            "text/plain": [
              "<Figure size 576x432 with 1 Axes>"
            ]
          },
          "metadata": {
            "tags": [],
            "needs_background": "light"
          }
        }
      ]
    },
    {
      "cell_type": "code",
      "metadata": {
        "id": "mQ6Y0T-KqkLN",
        "colab_type": "code",
        "outputId": "78030cad-49d3-420e-cb7e-946a5f64caa6",
        "colab": {
          "base_uri": "https://localhost:8080/",
          "height": 33
        }
      },
      "source": [
        "iqr=stats.iqr(filt_data['moistureInd'],rng=(25,75))\n",
        "q1=np.percentile(filt_data['moistureInd'],25,interpolation='midpoint')\n",
        "q3=np.percentile(filt_data['moistureInd'],75,interpolation='midpoint')\n",
        "r1=q1-1.5*iqr\n",
        "r2=q3+1.5*iqr\n",
        "r1,r2"
      ],
      "execution_count": 528,
      "outputs": [
        {
          "output_type": "execute_result",
          "data": {
            "text/plain": [
              "(72.58433828874996, 126.54230553625004)"
            ]
          },
          "metadata": {
            "tags": []
          },
          "execution_count": 528
        }
      ]
    },
    {
      "cell_type": "code",
      "metadata": {
        "id": "4ONfnvTrqlp3",
        "colab_type": "code",
        "colab": {}
      },
      "source": [
        "ls=filt_data[(filt_data['moistureInd']>r2) | (filt_data['moistureInd']<r1)].index\n",
        "l.extend(ls)"
      ],
      "execution_count": 0,
      "outputs": []
    },
    {
      "cell_type": "code",
      "metadata": {
        "id": "AM5cH5H1MXiu",
        "colab_type": "code",
        "colab": {
          "base_uri": "https://localhost:8080/",
          "height": 139
        },
        "outputId": "777bb130-010a-464b-e447-9e68ea91fdbf"
      },
      "source": [
        "df.iloc[ls]"
      ],
      "execution_count": 530,
      "outputs": [
        {
          "output_type": "execute_result",
          "data": {
            "text/html": [
              "<div>\n",
              "<style scoped>\n",
              "    .dataframe tbody tr th:only-of-type {\n",
              "        vertical-align: middle;\n",
              "    }\n",
              "\n",
              "    .dataframe tbody tr th {\n",
              "        vertical-align: top;\n",
              "    }\n",
              "\n",
              "    .dataframe thead th {\n",
              "        text-align: right;\n",
              "    }\n",
              "</style>\n",
              "<table border=\"1\" class=\"dataframe\">\n",
              "  <thead>\n",
              "    <tr style=\"text-align: right;\">\n",
              "      <th></th>\n",
              "      <th>Random</th>\n",
              "      <th>Machine nbr</th>\n",
              "      <th>lifetime</th>\n",
              "      <th>pressureInd</th>\n",
              "      <th>moistureInd</th>\n",
              "      <th>temperatureInd</th>\n",
              "      <th>team</th>\n",
              "      <th>provider</th>\n",
              "      <th>broken</th>\n",
              "    </tr>\n",
              "  </thead>\n",
              "  <tbody>\n",
              "    <tr>\n",
              "      <th>272</th>\n",
              "      <td>0.369308</td>\n",
              "      <td>84</td>\n",
              "      <td>12</td>\n",
              "      <td>56.907662</td>\n",
              "      <td>70.928815</td>\n",
              "      <td>110.712201</td>\n",
              "      <td>1</td>\n",
              "      <td>2</td>\n",
              "      <td>No</td>\n",
              "    </tr>\n",
              "    <tr>\n",
              "      <th>336</th>\n",
              "      <td>0.346097</td>\n",
              "      <td>178</td>\n",
              "      <td>60</td>\n",
              "      <td>113.226928</td>\n",
              "      <td>128.595038</td>\n",
              "      <td>96.488739</td>\n",
              "      <td>1</td>\n",
              "      <td>1</td>\n",
              "      <td>No</td>\n",
              "    </tr>\n",
              "    <tr>\n",
              "      <th>580</th>\n",
              "      <td>0.861765</td>\n",
              "      <td>44</td>\n",
              "      <td>65</td>\n",
              "      <td>51.699508</td>\n",
              "      <td>58.547301</td>\n",
              "      <td>60.518204</td>\n",
              "      <td>2</td>\n",
              "      <td>3</td>\n",
              "      <td>Yes</td>\n",
              "    </tr>\n",
              "  </tbody>\n",
              "</table>\n",
              "</div>"
            ],
            "text/plain": [
              "       Random  Machine nbr  lifetime  ...  team  provider  broken\n",
              "272  0.369308           84        12  ...     1         2      No\n",
              "336  0.346097          178        60  ...     1         1      No\n",
              "580  0.861765           44        65  ...     2         3     Yes\n",
              "\n",
              "[3 rows x 9 columns]"
            ]
          },
          "metadata": {
            "tags": []
          },
          "execution_count": 530
        }
      ]
    },
    {
      "cell_type": "code",
      "metadata": {
        "id": "EjBDwlaINRBl",
        "colab_type": "code",
        "colab": {
          "base_uri": "https://localhost:8080/",
          "height": 33
        },
        "outputId": "18a6568e-861b-44ea-a5da-8f57edf40ab7"
      },
      "source": [
        "filt_data=df[pd.notnull(df['temperatureInd'])]\n",
        "filt_data.shape"
      ],
      "execution_count": 531,
      "outputs": [
        {
          "output_type": "execute_result",
          "data": {
            "text/plain": [
              "(699, 9)"
            ]
          },
          "metadata": {
            "tags": []
          },
          "execution_count": 531
        }
      ]
    },
    {
      "cell_type": "code",
      "metadata": {
        "id": "9ji7a1NFoV9m",
        "colab_type": "code",
        "outputId": "0b602ab9-776d-4a7b-e8d5-f85c1ec65e86",
        "colab": {
          "base_uri": "https://localhost:8080/",
          "height": 374
        }
      },
      "source": [
        "plt.figure(figsize=(8,6))\n",
        "plt.boxplot(filt_data['temperatureInd'])\n",
        "plt.show()"
      ],
      "execution_count": 532,
      "outputs": [
        {
          "output_type": "display_data",
          "data": {
            "image/png": "[encoded data removed]",
            "text/plain": [
              "<Figure size 576x432 with 1 Axes>"
            ]
          },
          "metadata": {
            "tags": [],
            "needs_background": "light"
          }
        }
      ]
    },
    {
      "cell_type": "code",
      "metadata": {
        "id": "uPY4qwOkpTk2",
        "colab_type": "code",
        "colab": {
          "base_uri": "https://localhost:8080/",
          "height": 33
        },
        "outputId": "6535a14c-2fcc-46ea-8708-5008a9aedf24"
      },
      "source": [
        "iqr=stats.iqr(filt_data['temperatureInd'],rng=(25,75))\n",
        "q1=np.percentile(filt_data['temperatureInd'],25,interpolation='midpoint')\n",
        "q3=np.percentile(filt_data['temperatureInd'],75,interpolation='midpoint')\n",
        "r1=q1-1.5*iqr\n",
        "r2=q3+1.5*iqr\n",
        "r1,r2"
      ],
      "execution_count": 533,
      "outputs": [
        {
          "output_type": "execute_result",
          "data": {
            "text/plain": [
              "(47.18805931250001, 153.9846132125)"
            ]
          },
          "metadata": {
            "tags": []
          },
          "execution_count": 533
        }
      ]
    },
    {
      "cell_type": "code",
      "metadata": {
        "id": "FjOfg8zP2eb4",
        "colab_type": "code",
        "colab": {}
      },
      "source": [
        "ls=filt_data[(filt_data['temperatureInd']>r2) | (filt_data['temperatureInd']<r1)].index\n",
        "l.extend(ls)"
      ],
      "execution_count": 0,
      "outputs": []
    },
    {
      "cell_type": "code",
      "metadata": {
        "id": "bmKyDma3MkgF",
        "colab_type": "code",
        "colab": {
          "base_uri": "https://localhost:8080/",
          "height": 230
        },
        "outputId": "523c4103-4386-4e4c-f6df-1a43addf859b"
      },
      "source": [
        "df.iloc[ls]"
      ],
      "execution_count": 535,
      "outputs": [
        {
          "output_type": "execute_result",
          "data": {
            "text/html": [
              "<div>\n",
              "<style scoped>\n",
              "    .dataframe tbody tr th:only-of-type {\n",
              "        vertical-align: middle;\n",
              "    }\n",
              "\n",
              "    .dataframe tbody tr th {\n",
              "        vertical-align: top;\n",
              "    }\n",
              "\n",
              "    .dataframe thead th {\n",
              "        text-align: right;\n",
              "    }\n",
              "</style>\n",
              "<table border=\"1\" class=\"dataframe\">\n",
              "  <thead>\n",
              "    <tr style=\"text-align: right;\">\n",
              "      <th></th>\n",
              "      <th>Random</th>\n",
              "      <th>Machine nbr</th>\n",
              "      <th>lifetime</th>\n",
              "      <th>pressureInd</th>\n",
              "      <th>moistureInd</th>\n",
              "      <th>temperatureInd</th>\n",
              "      <th>team</th>\n",
              "      <th>provider</th>\n",
              "      <th>broken</th>\n",
              "    </tr>\n",
              "  </thead>\n",
              "  <tbody>\n",
              "    <tr>\n",
              "      <th>36</th>\n",
              "      <td>0.524967</td>\n",
              "      <td>608</td>\n",
              "      <td>44</td>\n",
              "      <td>124.358923</td>\n",
              "      <td>97.199080</td>\n",
              "      <td>46.857047</td>\n",
              "      <td>1</td>\n",
              "      <td>3</td>\n",
              "      <td>No</td>\n",
              "    </tr>\n",
              "    <tr>\n",
              "      <th>76</th>\n",
              "      <td>0.204760</td>\n",
              "      <td>616</td>\n",
              "      <td>62</td>\n",
              "      <td>114.142562</td>\n",
              "      <td>97.905471</td>\n",
              "      <td>165.169955</td>\n",
              "      <td>3</td>\n",
              "      <td>1</td>\n",
              "      <td>No</td>\n",
              "    </tr>\n",
              "    <tr>\n",
              "      <th>147</th>\n",
              "      <td>0.241437</td>\n",
              "      <td>387</td>\n",
              "      <td>13</td>\n",
              "      <td>86.024851</td>\n",
              "      <td>80.532008</td>\n",
              "      <td>172.544140</td>\n",
              "      <td>2</td>\n",
              "      <td>1</td>\n",
              "      <td>No</td>\n",
              "    </tr>\n",
              "    <tr>\n",
              "      <th>284</th>\n",
              "      <td>0.497260</td>\n",
              "      <td>779</td>\n",
              "      <td>86</td>\n",
              "      <td>119.147172</td>\n",
              "      <td>88.697833</td>\n",
              "      <td>44.058619</td>\n",
              "      <td>3</td>\n",
              "      <td>2</td>\n",
              "      <td>Yes</td>\n",
              "    </tr>\n",
              "    <tr>\n",
              "      <th>367</th>\n",
              "      <td>0.384643</td>\n",
              "      <td>745</td>\n",
              "      <td>40</td>\n",
              "      <td>105.514286</td>\n",
              "      <td>99.481564</td>\n",
              "      <td>620.086828</td>\n",
              "      <td>3</td>\n",
              "      <td>2</td>\n",
              "      <td>No</td>\n",
              "    </tr>\n",
              "    <tr>\n",
              "      <th>524</th>\n",
              "      <td>0.389311</td>\n",
              "      <td>902</td>\n",
              "      <td>90</td>\n",
              "      <td>87.727274</td>\n",
              "      <td>117.513535</td>\n",
              "      <td>42.279598</td>\n",
              "      <td>1</td>\n",
              "      <td>2</td>\n",
              "      <td>No</td>\n",
              "    </tr>\n",
              "  </tbody>\n",
              "</table>\n",
              "</div>"
            ],
            "text/plain": [
              "       Random  Machine nbr  lifetime  ...  team  provider  broken\n",
              "36   0.524967          608        44  ...     1         3      No\n",
              "76   0.204760          616        62  ...     3         1      No\n",
              "147  0.241437          387        13  ...     2         1      No\n",
              "284  0.497260          779        86  ...     3         2     Yes\n",
              "367  0.384643          745        40  ...     3         2      No\n",
              "524  0.389311          902        90  ...     1         2      No\n",
              "\n",
              "[6 rows x 9 columns]"
            ]
          },
          "metadata": {
            "tags": []
          },
          "execution_count": 535
        }
      ]
    },
    {
      "cell_type": "code",
      "metadata": {
        "id": "pvSegEcCToyF",
        "colab_type": "code",
        "colab": {
          "base_uri": "https://localhost:8080/",
          "height": 33
        },
        "outputId": "f7eacb0a-735d-4902-d93b-a0f4efd230d6"
      },
      "source": [
        "l"
      ],
      "execution_count": 536,
      "outputs": [
        {
          "output_type": "execute_result",
          "data": {
            "text/plain": [
              "[6, 305, 404, 485, 561, 598, 272, 336, 580, 36, 76, 147, 284, 367, 524]"
            ]
          },
          "metadata": {
            "tags": []
          },
          "execution_count": 536
        }
      ]
    },
    {
      "cell_type": "code",
      "metadata": {
        "id": "J9EMdmqTVDox",
        "colab_type": "code",
        "colab": {
          "base_uri": "https://localhost:8080/",
          "height": 504
        },
        "outputId": "093f12d9-3270-485d-9fc0-694ba892069d"
      },
      "source": [
        "df.iloc[l]"
      ],
      "execution_count": 537,
      "outputs": [
        {
          "output_type": "execute_result",
          "data": {
            "text/html": [
              "<div>\n",
              "<style scoped>\n",
              "    .dataframe tbody tr th:only-of-type {\n",
              "        vertical-align: middle;\n",
              "    }\n",
              "\n",
              "    .dataframe tbody tr th {\n",
              "        vertical-align: top;\n",
              "    }\n",
              "\n",
              "    .dataframe thead th {\n",
              "        text-align: right;\n",
              "    }\n",
              "</style>\n",
              "<table border=\"1\" class=\"dataframe\">\n",
              "  <thead>\n",
              "    <tr style=\"text-align: right;\">\n",
              "      <th></th>\n",
              "      <th>Random</th>\n",
              "      <th>Machine nbr</th>\n",
              "      <th>lifetime</th>\n",
              "      <th>pressureInd</th>\n",
              "      <th>moistureInd</th>\n",
              "      <th>temperatureInd</th>\n",
              "      <th>team</th>\n",
              "      <th>provider</th>\n",
              "      <th>broken</th>\n",
              "    </tr>\n",
              "  </thead>\n",
              "  <tbody>\n",
              "    <tr>\n",
              "      <th>6</th>\n",
              "      <td>0.264124</td>\n",
              "      <td>20</td>\n",
              "      <td>11</td>\n",
              "      <td>166.785898</td>\n",
              "      <td>97.244213</td>\n",
              "      <td>89.585687</td>\n",
              "      <td>2</td>\n",
              "      <td>2</td>\n",
              "      <td>No</td>\n",
              "    </tr>\n",
              "    <tr>\n",
              "      <th>305</th>\n",
              "      <td>0.507886</td>\n",
              "      <td>940</td>\n",
              "      <td>34</td>\n",
              "      <td>152.247259</td>\n",
              "      <td>104.465022</td>\n",
              "      <td>68.166865</td>\n",
              "      <td>3</td>\n",
              "      <td>3</td>\n",
              "      <td>No</td>\n",
              "    </tr>\n",
              "    <tr>\n",
              "      <th>404</th>\n",
              "      <td>0.900353</td>\n",
              "      <td>79</td>\n",
              "      <td>63</td>\n",
              "      <td>154.924585</td>\n",
              "      <td>77.677249</td>\n",
              "      <td>112.048807</td>\n",
              "      <td>2</td>\n",
              "      <td>4</td>\n",
              "      <td>No</td>\n",
              "    </tr>\n",
              "    <tr>\n",
              "      <th>485</th>\n",
              "      <td>0.965515</td>\n",
              "      <td>507</td>\n",
              "      <td>85</td>\n",
              "      <td>173.282541</td>\n",
              "      <td>111.662654</td>\n",
              "      <td>124.708910</td>\n",
              "      <td>3</td>\n",
              "      <td>2</td>\n",
              "      <td>Yes</td>\n",
              "    </tr>\n",
              "    <tr>\n",
              "      <th>561</th>\n",
              "      <td>0.545088</td>\n",
              "      <td>469</td>\n",
              "      <td>80</td>\n",
              "      <td>33.481917</td>\n",
              "      <td>102.310309</td>\n",
              "      <td>97.359616</td>\n",
              "      <td>2</td>\n",
              "      <td>1</td>\n",
              "      <td>Yes</td>\n",
              "    </tr>\n",
              "    <tr>\n",
              "      <th>598</th>\n",
              "      <td>0.435107</td>\n",
              "      <td>408</td>\n",
              "      <td>52</td>\n",
              "      <td>38.787548</td>\n",
              "      <td>116.491817</td>\n",
              "      <td>125.002526</td>\n",
              "      <td>3</td>\n",
              "      <td>4</td>\n",
              "      <td>No</td>\n",
              "    </tr>\n",
              "    <tr>\n",
              "      <th>272</th>\n",
              "      <td>0.369308</td>\n",
              "      <td>84</td>\n",
              "      <td>12</td>\n",
              "      <td>56.907662</td>\n",
              "      <td>70.928815</td>\n",
              "      <td>110.712201</td>\n",
              "      <td>1</td>\n",
              "      <td>2</td>\n",
              "      <td>No</td>\n",
              "    </tr>\n",
              "    <tr>\n",
              "      <th>336</th>\n",
              "      <td>0.346097</td>\n",
              "      <td>178</td>\n",
              "      <td>60</td>\n",
              "      <td>113.226928</td>\n",
              "      <td>128.595038</td>\n",
              "      <td>96.488739</td>\n",
              "      <td>1</td>\n",
              "      <td>1</td>\n",
              "      <td>No</td>\n",
              "    </tr>\n",
              "    <tr>\n",
              "      <th>580</th>\n",
              "      <td>0.861765</td>\n",
              "      <td>44</td>\n",
              "      <td>65</td>\n",
              "      <td>51.699508</td>\n",
              "      <td>58.547301</td>\n",
              "      <td>60.518204</td>\n",
              "      <td>2</td>\n",
              "      <td>3</td>\n",
              "      <td>Yes</td>\n",
              "    </tr>\n",
              "    <tr>\n",
              "      <th>36</th>\n",
              "      <td>0.524967</td>\n",
              "      <td>608</td>\n",
              "      <td>44</td>\n",
              "      <td>124.358923</td>\n",
              "      <td>97.199080</td>\n",
              "      <td>46.857047</td>\n",
              "      <td>1</td>\n",
              "      <td>3</td>\n",
              "      <td>No</td>\n",
              "    </tr>\n",
              "    <tr>\n",
              "      <th>76</th>\n",
              "      <td>0.204760</td>\n",
              "      <td>616</td>\n",
              "      <td>62</td>\n",
              "      <td>114.142562</td>\n",
              "      <td>97.905471</td>\n",
              "      <td>165.169955</td>\n",
              "      <td>3</td>\n",
              "      <td>1</td>\n",
              "      <td>No</td>\n",
              "    </tr>\n",
              "    <tr>\n",
              "      <th>147</th>\n",
              "      <td>0.241437</td>\n",
              "      <td>387</td>\n",
              "      <td>13</td>\n",
              "      <td>86.024851</td>\n",
              "      <td>80.532008</td>\n",
              "      <td>172.544140</td>\n",
              "      <td>2</td>\n",
              "      <td>1</td>\n",
              "      <td>No</td>\n",
              "    </tr>\n",
              "    <tr>\n",
              "      <th>284</th>\n",
              "      <td>0.497260</td>\n",
              "      <td>779</td>\n",
              "      <td>86</td>\n",
              "      <td>119.147172</td>\n",
              "      <td>88.697833</td>\n",
              "      <td>44.058619</td>\n",
              "      <td>3</td>\n",
              "      <td>2</td>\n",
              "      <td>Yes</td>\n",
              "    </tr>\n",
              "    <tr>\n",
              "      <th>367</th>\n",
              "      <td>0.384643</td>\n",
              "      <td>745</td>\n",
              "      <td>40</td>\n",
              "      <td>105.514286</td>\n",
              "      <td>99.481564</td>\n",
              "      <td>620.086828</td>\n",
              "      <td>3</td>\n",
              "      <td>2</td>\n",
              "      <td>No</td>\n",
              "    </tr>\n",
              "    <tr>\n",
              "      <th>524</th>\n",
              "      <td>0.389311</td>\n",
              "      <td>902</td>\n",
              "      <td>90</td>\n",
              "      <td>87.727274</td>\n",
              "      <td>117.513535</td>\n",
              "      <td>42.279598</td>\n",
              "      <td>1</td>\n",
              "      <td>2</td>\n",
              "      <td>No</td>\n",
              "    </tr>\n",
              "  </tbody>\n",
              "</table>\n",
              "</div>"
            ],
            "text/plain": [
              "       Random  Machine nbr  lifetime  ...  team  provider  broken\n",
              "6    0.264124           20        11  ...     2         2      No\n",
              "305  0.507886          940        34  ...     3         3      No\n",
              "404  0.900353           79        63  ...     2         4      No\n",
              "485  0.965515          507        85  ...     3         2     Yes\n",
              "561  0.545088          469        80  ...     2         1     Yes\n",
              "598  0.435107          408        52  ...     3         4      No\n",
              "272  0.369308           84        12  ...     1         2      No\n",
              "336  0.346097          178        60  ...     1         1      No\n",
              "580  0.861765           44        65  ...     2         3     Yes\n",
              "36   0.524967          608        44  ...     1         3      No\n",
              "76   0.204760          616        62  ...     3         1      No\n",
              "147  0.241437          387        13  ...     2         1      No\n",
              "284  0.497260          779        86  ...     3         2     Yes\n",
              "367  0.384643          745        40  ...     3         2      No\n",
              "524  0.389311          902        90  ...     1         2      No\n",
              "\n",
              "[15 rows x 9 columns]"
            ]
          },
          "metadata": {
            "tags": []
          },
          "execution_count": 537
        }
      ]
    },
    {
      "cell_type": "code",
      "metadata": {
        "id": "RY1Qh-F6V_81",
        "colab_type": "code",
        "colab": {
          "base_uri": "https://localhost:8080/",
          "height": 33
        },
        "outputId": "6c546c03-e294-4f61-e467-495bfe6eb962"
      },
      "source": [
        "lis=l\n",
        "lis.sort()\n",
        "lis"
      ],
      "execution_count": 538,
      "outputs": [
        {
          "output_type": "execute_result",
          "data": {
            "text/plain": [
              "[6, 36, 76, 147, 272, 284, 305, 336, 367, 404, 485, 524, 561, 580, 598]"
            ]
          },
          "metadata": {
            "tags": []
          },
          "execution_count": 538
        }
      ]
    },
    {
      "cell_type": "code",
      "metadata": {
        "id": "z9Hi5E22UvYS",
        "colab_type": "code",
        "colab": {
          "base_uri": "https://localhost:8080/",
          "height": 504
        },
        "outputId": "ecf2a6e7-c1c5-4cd4-b545-348b83151063"
      },
      "source": [
        "df.drop(l,inplace=True)\n",
        "df.iloc[lis]"
      ],
      "execution_count": 539,
      "outputs": [
        {
          "output_type": "execute_result",
          "data": {
            "text/html": [
              "<div>\n",
              "<style scoped>\n",
              "    .dataframe tbody tr th:only-of-type {\n",
              "        vertical-align: middle;\n",
              "    }\n",
              "\n",
              "    .dataframe tbody tr th {\n",
              "        vertical-align: top;\n",
              "    }\n",
              "\n",
              "    .dataframe thead th {\n",
              "        text-align: right;\n",
              "    }\n",
              "</style>\n",
              "<table border=\"1\" class=\"dataframe\">\n",
              "  <thead>\n",
              "    <tr style=\"text-align: right;\">\n",
              "      <th></th>\n",
              "      <th>Random</th>\n",
              "      <th>Machine nbr</th>\n",
              "      <th>lifetime</th>\n",
              "      <th>pressureInd</th>\n",
              "      <th>moistureInd</th>\n",
              "      <th>temperatureInd</th>\n",
              "      <th>team</th>\n",
              "      <th>provider</th>\n",
              "      <th>broken</th>\n",
              "    </tr>\n",
              "  </thead>\n",
              "  <tbody>\n",
              "    <tr>\n",
              "      <th>7</th>\n",
              "      <td>0.650043</td>\n",
              "      <td>542</td>\n",
              "      <td>62</td>\n",
              "      <td>94.415823</td>\n",
              "      <td>95.073117</td>\n",
              "      <td>107.696747</td>\n",
              "      <td>3</td>\n",
              "      <td>2</td>\n",
              "      <td>No</td>\n",
              "    </tr>\n",
              "    <tr>\n",
              "      <th>38</th>\n",
              "      <td>0.038162</td>\n",
              "      <td>753</td>\n",
              "      <td>10</td>\n",
              "      <td>114.684324</td>\n",
              "      <td>112.865138</td>\n",
              "      <td>76.556266</td>\n",
              "      <td>1</td>\n",
              "      <td>3</td>\n",
              "      <td>No</td>\n",
              "    </tr>\n",
              "    <tr>\n",
              "      <th>79</th>\n",
              "      <td>0.995048</td>\n",
              "      <td>41</td>\n",
              "      <td>65</td>\n",
              "      <td>90.944893</td>\n",
              "      <td>92.353561</td>\n",
              "      <td>140.603021</td>\n",
              "      <td>2</td>\n",
              "      <td>3</td>\n",
              "      <td>Yes</td>\n",
              "    </tr>\n",
              "    <tr>\n",
              "      <th>151</th>\n",
              "      <td>0.692788</td>\n",
              "      <td>935</td>\n",
              "      <td>80</td>\n",
              "      <td>95.915754</td>\n",
              "      <td>95.065810</td>\n",
              "      <td>84.593595</td>\n",
              "      <td>1</td>\n",
              "      <td>1</td>\n",
              "      <td>Yes</td>\n",
              "    </tr>\n",
              "    <tr>\n",
              "      <th>277</th>\n",
              "      <td>0.634416</td>\n",
              "      <td>514</td>\n",
              "      <td>60</td>\n",
              "      <td>118.033622</td>\n",
              "      <td>98.528041</td>\n",
              "      <td>131.592075</td>\n",
              "      <td>3</td>\n",
              "      <td>3</td>\n",
              "      <td>Yes</td>\n",
              "    </tr>\n",
              "    <tr>\n",
              "      <th>290</th>\n",
              "      <td>0.015544</td>\n",
              "      <td>89</td>\n",
              "      <td>49</td>\n",
              "      <td>105.542133</td>\n",
              "      <td>97.289688</td>\n",
              "      <td>112.937396</td>\n",
              "      <td>2</td>\n",
              "      <td>4</td>\n",
              "      <td>No</td>\n",
              "    </tr>\n",
              "    <tr>\n",
              "      <th>312</th>\n",
              "      <td>0.456191</td>\n",
              "      <td>694</td>\n",
              "      <td>65</td>\n",
              "      <td>75.463804</td>\n",
              "      <td>113.005930</td>\n",
              "      <td>122.009132</td>\n",
              "      <td>2</td>\n",
              "      <td>3</td>\n",
              "      <td>Yes</td>\n",
              "    </tr>\n",
              "    <tr>\n",
              "      <th>344</th>\n",
              "      <td>0.902559</td>\n",
              "      <td>564</td>\n",
              "      <td>25</td>\n",
              "      <td>91.067715</td>\n",
              "      <td>99.413137</td>\n",
              "      <td>106.635945</td>\n",
              "      <td>2</td>\n",
              "      <td>2</td>\n",
              "      <td>No</td>\n",
              "    </tr>\n",
              "    <tr>\n",
              "      <th>376</th>\n",
              "      <td>0.959071</td>\n",
              "      <td>118</td>\n",
              "      <td>74</td>\n",
              "      <td>110.197671</td>\n",
              "      <td>109.912879</td>\n",
              "      <td>96.717913</td>\n",
              "      <td>3</td>\n",
              "      <td>1</td>\n",
              "      <td>Yes</td>\n",
              "    </tr>\n",
              "    <tr>\n",
              "      <th>414</th>\n",
              "      <td>0.566664</td>\n",
              "      <td>502</td>\n",
              "      <td>60</td>\n",
              "      <td>86.000464</td>\n",
              "      <td>100.134087</td>\n",
              "      <td>111.421225</td>\n",
              "      <td>2</td>\n",
              "      <td>3</td>\n",
              "      <td>No</td>\n",
              "    </tr>\n",
              "    <tr>\n",
              "      <th>496</th>\n",
              "      <td>0.188917</td>\n",
              "      <td>531</td>\n",
              "      <td>74</td>\n",
              "      <td>82.528219</td>\n",
              "      <td>109.638424</td>\n",
              "      <td>96.597996</td>\n",
              "      <td>3</td>\n",
              "      <td>1</td>\n",
              "      <td>Yes</td>\n",
              "    </tr>\n",
              "    <tr>\n",
              "      <th>536</th>\n",
              "      <td>0.630699</td>\n",
              "      <td>628</td>\n",
              "      <td>32</td>\n",
              "      <td>96.345281</td>\n",
              "      <td>91.294654</td>\n",
              "      <td>84.812613</td>\n",
              "      <td>3</td>\n",
              "      <td>2</td>\n",
              "      <td>No</td>\n",
              "    </tr>\n",
              "    <tr>\n",
              "      <th>574</th>\n",
              "      <td>0.067490</td>\n",
              "      <td>803</td>\n",
              "      <td>73</td>\n",
              "      <td>74.661168</td>\n",
              "      <td>116.087087</td>\n",
              "      <td>129.490272</td>\n",
              "      <td>3</td>\n",
              "      <td>1</td>\n",
              "      <td>Yes</td>\n",
              "    </tr>\n",
              "    <tr>\n",
              "      <th>594</th>\n",
              "      <td>0.680598</td>\n",
              "      <td>509</td>\n",
              "      <td>73</td>\n",
              "      <td>101.227963</td>\n",
              "      <td>95.885231</td>\n",
              "      <td>112.073242</td>\n",
              "      <td>3</td>\n",
              "      <td>1</td>\n",
              "      <td>Yes</td>\n",
              "    </tr>\n",
              "    <tr>\n",
              "      <th>613</th>\n",
              "      <td>0.953945</td>\n",
              "      <td>977</td>\n",
              "      <td>74</td>\n",
              "      <td>100.005923</td>\n",
              "      <td>103.502876</td>\n",
              "      <td>96.876035</td>\n",
              "      <td>3</td>\n",
              "      <td>1</td>\n",
              "      <td>Yes</td>\n",
              "    </tr>\n",
              "  </tbody>\n",
              "</table>\n",
              "</div>"
            ],
            "text/plain": [
              "       Random  Machine nbr  lifetime  ...  team  provider  broken\n",
              "7    0.650043          542        62  ...     3         2      No\n",
              "38   0.038162          753        10  ...     1         3      No\n",
              "79   0.995048           41        65  ...     2         3     Yes\n",
              "151  0.692788          935        80  ...     1         1     Yes\n",
              "277  0.634416          514        60  ...     3         3     Yes\n",
              "290  0.015544           89        49  ...     2         4      No\n",
              "312  0.456191          694        65  ...     2         3     Yes\n",
              "344  0.902559          564        25  ...     2         2      No\n",
              "376  0.959071          118        74  ...     3         1     Yes\n",
              "414  0.566664          502        60  ...     2         3      No\n",
              "496  0.188917          531        74  ...     3         1     Yes\n",
              "536  0.630699          628        32  ...     3         2      No\n",
              "574  0.067490          803        73  ...     3         1     Yes\n",
              "594  0.680598          509        73  ...     3         1     Yes\n",
              "613  0.953945          977        74  ...     3         1     Yes\n",
              "\n",
              "[15 rows x 9 columns]"
            ]
          },
          "metadata": {
            "tags": []
          },
          "execution_count": 539
        }
      ]
    },
    {
      "cell_type": "code",
      "metadata": {
        "id": "uOwEh4gCu5ab",
        "colab_type": "code",
        "outputId": "e82af94e-ebfb-4fac-eb7b-a44e404b70e3",
        "colab": {
          "base_uri": "https://localhost:8080/",
          "height": 352
        }
      },
      "source": [
        " df.head(10)                                                                               "
      ],
      "execution_count": 544,
      "outputs": [
        {
          "output_type": "execute_result",
          "data": {
            "text/html": [
              "<div>\n",
              "<style scoped>\n",
              "    .dataframe tbody tr th:only-of-type {\n",
              "        vertical-align: middle;\n",
              "    }\n",
              "\n",
              "    .dataframe tbody tr th {\n",
              "        vertical-align: top;\n",
              "    }\n",
              "\n",
              "    .dataframe thead th {\n",
              "        text-align: right;\n",
              "    }\n",
              "</style>\n",
              "<table border=\"1\" class=\"dataframe\">\n",
              "  <thead>\n",
              "    <tr style=\"text-align: right;\">\n",
              "      <th></th>\n",
              "      <th>Random</th>\n",
              "      <th>Machine nbr</th>\n",
              "      <th>lifetime</th>\n",
              "      <th>pressureInd</th>\n",
              "      <th>moistureInd</th>\n",
              "      <th>temperatureInd</th>\n",
              "      <th>team</th>\n",
              "      <th>provider</th>\n",
              "      <th>broken</th>\n",
              "    </tr>\n",
              "  </thead>\n",
              "  <tbody>\n",
              "    <tr>\n",
              "      <th>0</th>\n",
              "      <td>0.437420</td>\n",
              "      <td>723</td>\n",
              "      <td>60</td>\n",
              "      <td>77.836105</td>\n",
              "      <td>112.832544</td>\n",
              "      <td>121.786371</td>\n",
              "      <td>3</td>\n",
              "      <td>3</td>\n",
              "      <td>Yes</td>\n",
              "    </tr>\n",
              "    <tr>\n",
              "      <th>1</th>\n",
              "      <td>0.688345</td>\n",
              "      <td>107</td>\n",
              "      <td>88</td>\n",
              "      <td>89.350620</td>\n",
              "      <td>95.228125</td>\n",
              "      <td>99.082317</td>\n",
              "      <td>1</td>\n",
              "      <td>4</td>\n",
              "      <td>Yes</td>\n",
              "    </tr>\n",
              "    <tr>\n",
              "      <th>2</th>\n",
              "      <td>0.805670</td>\n",
              "      <td>153</td>\n",
              "      <td>30</td>\n",
              "      <td>130.089477</td>\n",
              "      <td>96.367747</td>\n",
              "      <td>103.608344</td>\n",
              "      <td>1</td>\n",
              "      <td>3</td>\n",
              "      <td>No</td>\n",
              "    </tr>\n",
              "    <tr>\n",
              "      <th>3</th>\n",
              "      <td>0.923187</td>\n",
              "      <td>140</td>\n",
              "      <td>79</td>\n",
              "      <td>87.421990</td>\n",
              "      <td>110.941574</td>\n",
              "      <td>129.691510</td>\n",
              "      <td>2</td>\n",
              "      <td>1</td>\n",
              "      <td>Yes</td>\n",
              "    </tr>\n",
              "    <tr>\n",
              "      <th>4</th>\n",
              "      <td>0.036583</td>\n",
              "      <td>359</td>\n",
              "      <td>2</td>\n",
              "      <td>69.939898</td>\n",
              "      <td>86.292387</td>\n",
              "      <td>91.861983</td>\n",
              "      <td>3</td>\n",
              "      <td>3</td>\n",
              "      <td>No</td>\n",
              "    </tr>\n",
              "    <tr>\n",
              "      <th>5</th>\n",
              "      <td>0.716907</td>\n",
              "      <td>10</td>\n",
              "      <td>81</td>\n",
              "      <td>97.501826</td>\n",
              "      <td>92.228039</td>\n",
              "      <td>80.800159</td>\n",
              "      <td>3</td>\n",
              "      <td>4</td>\n",
              "      <td>Yes</td>\n",
              "    </tr>\n",
              "    <tr>\n",
              "      <th>7</th>\n",
              "      <td>0.650043</td>\n",
              "      <td>542</td>\n",
              "      <td>62</td>\n",
              "      <td>94.415823</td>\n",
              "      <td>95.073117</td>\n",
              "      <td>107.696747</td>\n",
              "      <td>3</td>\n",
              "      <td>2</td>\n",
              "      <td>No</td>\n",
              "    </tr>\n",
              "    <tr>\n",
              "      <th>8</th>\n",
              "      <td>0.636112</td>\n",
              "      <td>156</td>\n",
              "      <td>27</td>\n",
              "      <td>102.676657</td>\n",
              "      <td>88.963203</td>\n",
              "      <td>102.979857</td>\n",
              "      <td>3</td>\n",
              "      <td>4</td>\n",
              "      <td>No</td>\n",
              "    </tr>\n",
              "    <tr>\n",
              "      <th>9</th>\n",
              "      <td>0.906825</td>\n",
              "      <td>324</td>\n",
              "      <td>52</td>\n",
              "      <td>93.099811</td>\n",
              "      <td>103.466191</td>\n",
              "      <td>71.497776</td>\n",
              "      <td>2</td>\n",
              "      <td>3</td>\n",
              "      <td>No</td>\n",
              "    </tr>\n",
              "    <tr>\n",
              "      <th>10</th>\n",
              "      <td>0.575802</td>\n",
              "      <td>453</td>\n",
              "      <td>41</td>\n",
              "      <td>93.797168</td>\n",
              "      <td>92.230875</td>\n",
              "      <td>117.877573</td>\n",
              "      <td>1</td>\n",
              "      <td>2</td>\n",
              "      <td>No</td>\n",
              "    </tr>\n",
              "  </tbody>\n",
              "</table>\n",
              "</div>"
            ],
            "text/plain": [
              "      Random  Machine nbr  lifetime  ...  team  provider  broken\n",
              "0   0.437420          723        60  ...     3         3     Yes\n",
              "1   0.688345          107        88  ...     1         4     Yes\n",
              "2   0.805670          153        30  ...     1         3      No\n",
              "3   0.923187          140        79  ...     2         1     Yes\n",
              "4   0.036583          359         2  ...     3         3      No\n",
              "5   0.716907           10        81  ...     3         4     Yes\n",
              "7   0.650043          542        62  ...     3         2      No\n",
              "8   0.636112          156        27  ...     3         4      No\n",
              "9   0.906825          324        52  ...     2         3      No\n",
              "10  0.575802          453        41  ...     1         2      No\n",
              "\n",
              "[10 rows x 9 columns]"
            ]
          },
          "metadata": {
            "tags": []
          },
          "execution_count": 544
        }
      ]
    },
    {
      "cell_type": "code",
      "metadata": {
        "id": "Ci5lImA_vg9e",
        "colab_type": "code",
        "outputId": "37c8a2e2-fb20-45ae-da4b-e83d74ab04a2",
        "colab": {
          "base_uri": "https://localhost:8080/",
          "height": 169
        }
      },
      "source": [
        "df['pressureInd'].fillna(np.mean(df['pressureInd']),inplace=True)\n",
        "df['moistureInd'].fillna(np.mean(df['moistureInd']),inplace=True)\n",
        "df['temperatureInd'].fillna(np.mean(df['temperatureInd']),inplace=True)"
      ],
      "execution_count": 550,
      "outputs": [
        {
          "output_type": "execute_result",
          "data": {
            "text/html": [
              "<div>\n",
              "<style scoped>\n",
              "    .dataframe tbody tr th:only-of-type {\n",
              "        vertical-align: middle;\n",
              "    }\n",
              "\n",
              "    .dataframe tbody tr th {\n",
              "        vertical-align: top;\n",
              "    }\n",
              "\n",
              "    .dataframe thead th {\n",
              "        text-align: right;\n",
              "    }\n",
              "</style>\n",
              "<table border=\"1\" class=\"dataframe\">\n",
              "  <thead>\n",
              "    <tr style=\"text-align: right;\">\n",
              "      <th></th>\n",
              "      <th>Random</th>\n",
              "      <th>Machine nbr</th>\n",
              "      <th>lifetime</th>\n",
              "      <th>pressureInd</th>\n",
              "      <th>moistureInd</th>\n",
              "      <th>temperatureInd</th>\n",
              "      <th>team</th>\n",
              "      <th>provider</th>\n",
              "      <th>broken</th>\n",
              "    </tr>\n",
              "  </thead>\n",
              "  <tbody>\n",
              "    <tr>\n",
              "      <th>72</th>\n",
              "      <td>0.300260</td>\n",
              "      <td>209</td>\n",
              "      <td>46</td>\n",
              "      <td>98.371664</td>\n",
              "      <td>108.500048</td>\n",
              "      <td>82.372952</td>\n",
              "      <td>2</td>\n",
              "      <td>1</td>\n",
              "      <td>No</td>\n",
              "    </tr>\n",
              "    <tr>\n",
              "      <th>174</th>\n",
              "      <td>0.950821</td>\n",
              "      <td>924</td>\n",
              "      <td>48</td>\n",
              "      <td>123.046048</td>\n",
              "      <td>99.765022</td>\n",
              "      <td>95.825929</td>\n",
              "      <td>3</td>\n",
              "      <td>1</td>\n",
              "      <td>No</td>\n",
              "    </tr>\n",
              "    <tr>\n",
              "      <th>192</th>\n",
              "      <td>0.482895</td>\n",
              "      <td>655</td>\n",
              "      <td>81</td>\n",
              "      <td>85.126347</td>\n",
              "      <td>112.589162</td>\n",
              "      <td>104.285315</td>\n",
              "      <td>3</td>\n",
              "      <td>4</td>\n",
              "      <td>Yes</td>\n",
              "    </tr>\n",
              "    <tr>\n",
              "      <th>231</th>\n",
              "      <td>0.141238</td>\n",
              "      <td>311</td>\n",
              "      <td>80</td>\n",
              "      <td>116.034761</td>\n",
              "      <td>113.029899</td>\n",
              "      <td>118.984113</td>\n",
              "      <td>2</td>\n",
              "      <td>1</td>\n",
              "      <td>Yes</td>\n",
              "    </tr>\n",
              "  </tbody>\n",
              "</table>\n",
              "</div>"
            ],
            "text/plain": [
              "       Random  Machine nbr  lifetime  ...  team  provider  broken\n",
              "72   0.300260          209        46  ...     2         1      No\n",
              "174  0.950821          924        48  ...     3         1      No\n",
              "192  0.482895          655        81  ...     3         4     Yes\n",
              "231  0.141238          311        80  ...     2         1     Yes\n",
              "\n",
              "[4 rows x 9 columns]"
            ]
          },
          "metadata": {
            "tags": []
          },
          "execution_count": 550
        }
      ]
    },
    {
      "cell_type": "code",
      "metadata": {
        "id": "9Pu62AOPF5vO",
        "colab_type": "code",
        "colab": {
          "base_uri": "https://localhost:8080/",
          "height": 284
        },
        "outputId": "1621c4d7-b8ab-47ae-fe06-9d0a03f67b1a"
      },
      "source": [
        "df.info()"
      ],
      "execution_count": 551,
      "outputs": [
        {
          "output_type": "stream",
          "text": [
            "<class 'pandas.core.frame.DataFrame'>\n",
            "Int64Index: 685 entries, 0 to 699\n",
            "Data columns (total 9 columns):\n",
            " #   Column          Non-Null Count  Dtype  \n",
            "---  ------          --------------  -----  \n",
            " 0   Random          685 non-null    float64\n",
            " 1   Machine nbr     685 non-null    int64  \n",
            " 2   lifetime        685 non-null    int64  \n",
            " 3   pressureInd     685 non-null    float64\n",
            " 4   moistureInd     685 non-null    float64\n",
            " 5   temperatureInd  685 non-null    float64\n",
            " 6   team            685 non-null    int64  \n",
            " 7   provider        685 non-null    int64  \n",
            " 8   broken          685 non-null    object \n",
            "dtypes: float64(4), int64(4), object(1)\n",
            "memory usage: 53.5+ KB\n"
          ],
          "name": "stdout"
        }
      ]
    },
    {
      "cell_type": "code",
      "metadata": {
        "id": "El2zkHkObwTH",
        "colab_type": "code",
        "outputId": "4740cee2-f7b8-48d3-959b-2b50172e7bb3",
        "colab": {
          "base_uri": "https://localhost:8080/",
          "height": 296
        }
      },
      "source": [
        "sns.countplot(data=dat,x=dat['broken'])"
      ],
      "execution_count": 543,
      "outputs": [
        {
          "output_type": "execute_result",
          "data": {
            "text/plain": [
              "<matplotlib.axes._subplots.AxesSubplot at 0x7f2f4c679198>"
            ]
          },
          "metadata": {
            "tags": []
          },
          "execution_count": 543
        },
        {
          "output_type": "display_data",
          "data": {
            "image/png": "[encoded data removed]",
            "text/plain": [
              "<Figure size 432x288 with 1 Axes>"
            ]
          },
          "metadata": {
            "tags": [],
            "needs_background": "light"
          }
        }
      ]
    },
    {
      "cell_type": "code",
      "metadata": {
        "id": "OHzAxQ6Wb5fY",
        "colab_type": "code",
        "colab": {
          "base_uri": "https://localhost:8080/",
          "height": 350
        },
        "outputId": "ed2a163b-b8fa-4868-a7fe-90143982e67e"
      },
      "source": [
        "plt.figure(figsize=(9,5))\n",
        "sns.scatterplot(data=df,x=df['lifetime'],y=df['pressureInd'],hue=df['broken'])"
      ],
      "execution_count": 557,
      "outputs": [
        {
          "output_type": "execute_result",
          "data": {
            "text/plain": [
              "<matplotlib.axes._subplots.AxesSubplot at 0x7f2f47f15710>"
            ]
          },
          "metadata": {
            "tags": []
          },
          "execution_count": 557
        },
        {
          "output_type": "display_data",
          "data": {
            "image/png": "[encoded data removed]",
            "text/plain": [
              "<Figure size 648x360 with 1 Axes>"
            ]
          },
          "metadata": {
            "tags": [],
            "needs_background": "light"
          }
        }
      ]
    },
    {
      "cell_type": "code",
      "metadata": {
        "id": "8--Y4Aabbe45",
        "colab_type": "code",
        "colab": {
          "base_uri": "https://localhost:8080/",
          "height": 350
        },
        "outputId": "50f820a8-c703-4f6f-8f92-bf8a933602c7"
      },
      "source": [
        "plt.figure(figsize=(9,5))\n",
        "sns.scatterplot(data=df,x=df['lifetime'],y=df['moistureInd'],hue=df['broken'])"
      ],
      "execution_count": 558,
      "outputs": [
        {
          "output_type": "execute_result",
          "data": {
            "text/plain": [
              "<matplotlib.axes._subplots.AxesSubplot at 0x7f2f47ebc4e0>"
            ]
          },
          "metadata": {
            "tags": []
          },
          "execution_count": 558
        },
        {
          "output_type": "display_data",
          "data": {
            "image/png": "[encoded data removed]",
            "text/plain": [
              "<Figure size 648x360 with 1 Axes>"
            ]
          },
          "metadata": {
            "tags": [],
            "needs_background": "light"
          }
        }
      ]
    },
    {
      "cell_type": "code",
      "metadata": {
        "id": "qeAJosG2cYRA",
        "colab_type": "code",
        "colab": {
          "base_uri": "https://localhost:8080/",
          "height": 350
        },
        "outputId": "bf21be42-2c9e-4b58-de75-6b684cfc45b3"
      },
      "source": [
        "plt.figure(figsize=(9,5))\n",
        "sns.scatterplot(data=df,x=df['lifetime'],y=df['temperatureInd'],hue=df['broken'])"
      ],
      "execution_count": 560,
      "outputs": [
        {
          "output_type": "execute_result",
          "data": {
            "text/plain": [
              "<matplotlib.axes._subplots.AxesSubplot at 0x7f2f47e28f98>"
            ]
          },
          "metadata": {
            "tags": []
          },
          "execution_count": 560
        },
        {
          "output_type": "display_data",
          "data": {
            "image/png": "[encoded data removed]",
            "text/plain": [
              "<Figure size 648x360 with 1 Axes>"
            ]
          },
          "metadata": {
            "tags": [],
            "needs_background": "light"
          }
        }
      ]
    },
    {
      "cell_type": "code",
      "metadata": {
        "id": "Moldwxlicd25",
        "colab_type": "code",
        "colab": {}
      },
      "source": [
        ""
      ],
      "execution_count": 0,
      "outputs": []
    }
  ]
}