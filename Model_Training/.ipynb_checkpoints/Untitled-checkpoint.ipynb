{
 "cells": [
  {
   "cell_type": "code",
   "execution_count": 1,
   "metadata": {},
   "outputs": [],
   "source": [
    "# Basic File handling\n",
    "import pandas as pd\n",
    "import numpy as np\n",
    "\n",
    "# Pre-Processing\n",
    "from sklearn import preprocessing\n",
    "label_encoder = preprocessing.LabelEncoder()\n",
    "\n",
    "# Splitting data for Model Training\n",
    "from sklearn.model_selection import train_test_split \n",
    "\n",
    "# Training Model\n",
    "from sklearn.ensemble import RandomForestClassifier\n",
    "# Random Forest Classifier was chosen because it was most Accurate\n",
    "\n",
    "# Model Evaluation : Accuracy Score\n",
    "from sklearn.metrics import accuracy_score\n",
    "\n",
    "# Getting the Data Set in the Program\n",
    "data=pd.read_csv('dataset.csv')\n",
    "\n",
    "# Removing all the Null Values\n",
    "data.dropna(inplace=True)\n",
    "\n",
    "# Encoding Values to Unique Integers to aid Mathematical Calculations\n",
    "\n",
    "data['broken']= label_encoder.fit_transform(data['broken']) \n",
    "data['team']= label_encoder.fit_transform(data['team']) \n",
    "data['provider']= label_encoder.fit_transform(data['provider']) \n",
    "\n",
    "data['broken'].unique()\n",
    "data['team'].unique() \n",
    "data['provider'].unique() \n",
    "\n",
    "X = data.drop('broken',axis = 1)    #X : Features and Dependent Variables\n",
    "y = data['broken']    #y : Target Variable\n",
    "\n",
    "# Splitting the Data for Training and Testing in 80:20 Ratio\n",
    "\n",
    "X_train, X_test, y_train, y_test = train_test_split(X,y,test_size = 0.2,random_state = 0)\n",
    "\n",
    "# Training the Model\n",
    "model = RandomForestClassifier()\n",
    "model.fit(X_train,y_train)\n",
    "y_pred = model.predict(X_test)\n",
    "\n",
    "# Accuracy Score\n",
    "confidence = accuracy_score(y_test,y_pred)*100"
   ]
  },
  {
   "cell_type": "code",
   "execution_count": 2,
   "metadata": {},
   "outputs": [
    {
     "name": "stdout",
     "output_type": "stream",
     "text": [
      "95.71428571428572\n"
     ]
    }
   ],
   "source": [
    "print(confidence)"
   ]
  },
  {
   "cell_type": "code",
   "execution_count": 3,
   "metadata": {},
   "outputs": [
    {
     "name": "stderr",
     "output_type": "stream",
     "text": [
      "/Library/Frameworks/Python.framework/Versions/3.7/lib/python3.7/site-packages/sklearn/externals/joblib/__init__.py:15: FutureWarning: sklearn.externals.joblib is deprecated in 0.21 and will be removed in 0.23. Please import this functionality directly from joblib, which can be installed with: pip install joblib. If this warning is raised when loading pickled models, you may need to re-serialize those models with scikit-learn 0.21+.\n",
      "  warnings.warn(msg, category=FutureWarning)\n"
     ]
    },
    {
     "data": {
      "text/plain": [
       "['model.pkl']"
      ]
     },
     "execution_count": 3,
     "metadata": {},
     "output_type": "execute_result"
    }
   ],
   "source": [
    "# Export Trained Model as *.pkl\n",
    "from sklearn.externals import joblib\n",
    "joblib.dump(model,\"model.pkl\")"
   ]
  },
  {
   "cell_type": "code",
   "execution_count": null,
   "metadata": {},
   "outputs": [],
   "source": []
  }
 ],
 "metadata": {
  "kernelspec": {
   "display_name": "Python 3",
   "language": "python",
   "name": "python3"
  },
  "language_info": {
   "codemirror_mode": {
    "name": "ipython",
    "version": 3
   },
   "file_extension": ".py",
   "mimetype": "text/x-python",
   "name": "python",
   "nbconvert_exporter": "python",
   "pygments_lexer": "ipython3",
   "version": "3.7.7"
  }
 },
 "nbformat": 4,
 "nbformat_minor": 4
}
